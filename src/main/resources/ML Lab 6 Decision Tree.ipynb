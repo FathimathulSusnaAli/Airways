{
 "cells": [
  {
   "cell_type": "markdown",
   "metadata": {},
   "source": [
    "  # Machine Learning Lab _6_ - Decision Tree\n",
    "  <hr/>\n",
    "\n",
    "  Submitted by <br>\n",
    "  Name: **Sandeep Jabez** <br>\n",
    "  Register Number: **20112029** <br>\n",
    "  Class: **4BScDS** <br> \n",
    "  <hr/>\n",
    "\n",
    "\n",
    "\n",
    "\n",
    "\n",
    "\n"
   ]
  },
  {
   "cell_type": "markdown",
   "metadata": {},
   "source": [
    "## Lab Overview  \n",
    "### Objectives\n",
    "\n",
    "1. Construct a decision tree for classifying Any Dataset of your choice.\n",
    "1. Which gives better performance - Gini Index or Entropy Method? Print the Accuracy Score and Confusion Matrix to justify your answer.\n",
    "1. What is the Depth of the Tree? How many Leaves are present in the same? [you may use get_depth() and get_n_leaves() methods]."
   ]
  },
  {
   "cell_type": "markdown",
   "metadata": {},
   "source": [
    "## References\n",
    "1. https://scikit-learn.org/stable/modules/tree.html\n",
    "\n",
    "1. https://www.datacamp.com/tutorial/decision-tree-classification-python\n",
    "1. https://towardsdatascience.com/car-evaluation-analysis-using-decision-tree-classifier-61a8ff12bf6f"
   ]
  },
  {
   "cell_type": "markdown",
   "metadata": {},
   "source": [
    "## Approach\n",
    "For this lab I a going to use the car evaluation dataset."
   ]
  },
  {
   "cell_type": "code",
   "execution_count": 96,
   "metadata": {},
   "outputs": [
    {
     "data": {
      "text/plain": [
       "'\\nbuying_price: Buying Level or Capacity of the customer (Very High: vhigh, High: high, Low: low, Medium: med)\\nmaint_cost: Maintenence Level (Very High: vhigh, High: high, Low: low, Medium: med)\\ndoors: Number of doors in the car (2, 3, 4, and 5 or more)\\nperson_capacity: capacity in terms of persons to carry (2, 4, and more)\\nlug_boot: The size of the Luggage Boot (small, med, big)\\nsafety: Safety Level of Car (high, med, low)\\nclass: Unacceptable, Acceptable, VeryGood, Good\\n'"
      ]
     },
     "execution_count": 96,
     "metadata": {},
     "output_type": "execute_result"
    }
   ],
   "source": [
    "'''\n",
    "buying_price: Buying Level or Capacity of the customer (Very High: vhigh, High: high, Low: low, Medium: med)\n",
    "maint_cost: Maintenence Level (Very High: vhigh, High: high, Low: low, Medium: med)\n",
    "doors: Number of doors in the car (2, 3, 4, and 5 or more)\n",
    "person_capacity: capacity in terms of persons to carry (2, 4, and more)\n",
    "lug_boot: The size of the Luggage Boot (small, med, big)\n",
    "safety: Safety Level of Car (high, med, low)\n",
    "class: Unacceptable, Acceptable, VeryGood, Good\n",
    "'''\n"
   ]
  },
  {
   "cell_type": "code",
   "execution_count": 97,
   "metadata": {},
   "outputs": [
    {
     "name": "stdout",
     "output_type": "stream",
     "text": [
      "<class 'pandas.core.frame.DataFrame'>\n",
      "RangeIndex: 1728 entries, 0 to 1727\n",
      "Data columns (total 7 columns):\n",
      " #   Column  Non-Null Count  Dtype \n",
      "---  ------  --------------  ----- \n",
      " 0   0       1728 non-null   object\n",
      " 1   1       1728 non-null   object\n",
      " 2   2       1728 non-null   object\n",
      " 3   3       1728 non-null   object\n",
      " 4   4       1728 non-null   object\n",
      " 5   5       1728 non-null   object\n",
      " 6   6       1728 non-null   object\n",
      "dtypes: object(7)\n",
      "memory usage: 94.6+ KB\n"
     ]
    }
   ],
   "source": [
    "# car evaluation dataset\n",
    "import pandas as pd\n",
    "# read the data\n",
    "df = pd.read_csv('car_evaluation.csv', header=None)\n",
    "df.info()"
   ]
  },
  {
   "cell_type": "code",
   "execution_count": 98,
   "metadata": {},
   "outputs": [],
   "source": [
    "#library\n",
    "import pandas as pd\n",
    "import numpy as np\n",
    "import matplotlib.pyplot as plt\n",
    "from sklearn.metrics import confusion_matrix\n",
    "from sklearn.tree import DecisionTreeClassifier\n",
    "from sklearn.model_selection import train_test_split\n",
    "from sklearn.metrics import accuracy_score\n",
    "from sklearn.metrics import classification_report\n",
    "\n"
   ]
  },
  {
   "cell_type": "code",
   "execution_count": 99,
   "metadata": {},
   "outputs": [],
   "source": [
    "# giving the column names\n",
    "lis=['buying_price_category ','maint_cost_category','doors_category','persons_capacity_category','lug_boot_category','safety_category','class']\n",
    "df.columns=lis"
   ]
  },
  {
   "cell_type": "code",
   "execution_count": 100,
   "metadata": {},
   "outputs": [
    {
     "data": {
      "text/html": [
       "<div>\n",
       "<style scoped>\n",
       "    .dataframe tbody tr th:only-of-type {\n",
       "        vertical-align: middle;\n",
       "    }\n",
       "\n",
       "    .dataframe tbody tr th {\n",
       "        vertical-align: top;\n",
       "    }\n",
       "\n",
       "    .dataframe thead th {\n",
       "        text-align: right;\n",
       "    }\n",
       "</style>\n",
       "<table border=\"1\" class=\"dataframe\">\n",
       "  <thead>\n",
       "    <tr style=\"text-align: right;\">\n",
       "      <th></th>\n",
       "      <th>buying_price_category</th>\n",
       "      <th>maint_cost_category</th>\n",
       "      <th>doors_category</th>\n",
       "      <th>persons_capacity_category</th>\n",
       "      <th>lug_boot_category</th>\n",
       "      <th>safety_category</th>\n",
       "      <th>class</th>\n",
       "    </tr>\n",
       "  </thead>\n",
       "  <tbody>\n",
       "    <tr>\n",
       "      <th>0</th>\n",
       "      <td>vhigh</td>\n",
       "      <td>vhigh</td>\n",
       "      <td>2</td>\n",
       "      <td>2</td>\n",
       "      <td>small</td>\n",
       "      <td>low</td>\n",
       "      <td>unacc</td>\n",
       "    </tr>\n",
       "    <tr>\n",
       "      <th>1</th>\n",
       "      <td>vhigh</td>\n",
       "      <td>vhigh</td>\n",
       "      <td>2</td>\n",
       "      <td>2</td>\n",
       "      <td>small</td>\n",
       "      <td>med</td>\n",
       "      <td>unacc</td>\n",
       "    </tr>\n",
       "    <tr>\n",
       "      <th>2</th>\n",
       "      <td>vhigh</td>\n",
       "      <td>vhigh</td>\n",
       "      <td>2</td>\n",
       "      <td>2</td>\n",
       "      <td>small</td>\n",
       "      <td>high</td>\n",
       "      <td>unacc</td>\n",
       "    </tr>\n",
       "    <tr>\n",
       "      <th>3</th>\n",
       "      <td>vhigh</td>\n",
       "      <td>vhigh</td>\n",
       "      <td>2</td>\n",
       "      <td>2</td>\n",
       "      <td>med</td>\n",
       "      <td>low</td>\n",
       "      <td>unacc</td>\n",
       "    </tr>\n",
       "    <tr>\n",
       "      <th>4</th>\n",
       "      <td>vhigh</td>\n",
       "      <td>vhigh</td>\n",
       "      <td>2</td>\n",
       "      <td>2</td>\n",
       "      <td>med</td>\n",
       "      <td>med</td>\n",
       "      <td>unacc</td>\n",
       "    </tr>\n",
       "  </tbody>\n",
       "</table>\n",
       "</div>"
      ],
      "text/plain": [
       "  buying_price_category  maint_cost_category doors_category  \\\n",
       "0                  vhigh               vhigh              2   \n",
       "1                  vhigh               vhigh              2   \n",
       "2                  vhigh               vhigh              2   \n",
       "3                  vhigh               vhigh              2   \n",
       "4                  vhigh               vhigh              2   \n",
       "\n",
       "  persons_capacity_category lug_boot_category safety_category  class  \n",
       "0                         2             small             low  unacc  \n",
       "1                         2             small             med  unacc  \n",
       "2                         2             small            high  unacc  \n",
       "3                         2               med             low  unacc  \n",
       "4                         2               med             med  unacc  "
      ]
     },
     "execution_count": 100,
     "metadata": {},
     "output_type": "execute_result"
    }
   ],
   "source": [
    "df.head()"
   ]
  },
  {
   "cell_type": "code",
   "execution_count": 101,
   "metadata": {},
   "outputs": [
    {
     "data": {
      "text/plain": [
       "(1728, 7)"
      ]
     },
     "execution_count": 101,
     "metadata": {},
     "output_type": "execute_result"
    }
   ],
   "source": [
    "df.shape"
   ]
  },
  {
   "cell_type": "code",
   "execution_count": 102,
   "metadata": {},
   "outputs": [
    {
     "data": {
      "text/plain": [
       "Index(['buying_price_category ', 'maint_cost_category', 'doors_category',\n",
       "       'persons_capacity_category', 'lug_boot_category', 'safety_category',\n",
       "       'class'],\n",
       "      dtype='object')"
      ]
     },
     "execution_count": 102,
     "metadata": {},
     "output_type": "execute_result"
    }
   ],
   "source": [
    "df.columns\n"
   ]
  },
  {
   "cell_type": "code",
   "execution_count": 103,
   "metadata": {},
   "outputs": [
    {
     "data": {
      "text/plain": [
       "unacc    1210\n",
       "acc       384\n",
       "good       69\n",
       "vgood      65\n",
       "Name: class, dtype: int64"
      ]
     },
     "execution_count": 103,
     "metadata": {},
     "output_type": "execute_result"
    }
   ],
   "source": [
    "df['class'].value_counts()    "
   ]
  },
  {
   "cell_type": "code",
   "execution_count": 104,
   "metadata": {},
   "outputs": [
    {
     "data": {
      "text/html": [
       "<div>\n",
       "<style scoped>\n",
       "    .dataframe tbody tr th:only-of-type {\n",
       "        vertical-align: middle;\n",
       "    }\n",
       "\n",
       "    .dataframe tbody tr th {\n",
       "        vertical-align: top;\n",
       "    }\n",
       "\n",
       "    .dataframe thead th {\n",
       "        text-align: right;\n",
       "    }\n",
       "</style>\n",
       "<table border=\"1\" class=\"dataframe\">\n",
       "  <thead>\n",
       "    <tr style=\"text-align: right;\">\n",
       "      <th></th>\n",
       "      <th>buying_price_category</th>\n",
       "      <th>maint_cost_category</th>\n",
       "      <th>doors_category</th>\n",
       "      <th>persons_capacity_category</th>\n",
       "      <th>lug_boot_category</th>\n",
       "      <th>safety_category</th>\n",
       "      <th>class</th>\n",
       "    </tr>\n",
       "  </thead>\n",
       "  <tbody>\n",
       "    <tr>\n",
       "      <th>0</th>\n",
       "      <td>3</td>\n",
       "      <td>3</td>\n",
       "      <td>0</td>\n",
       "      <td>0</td>\n",
       "      <td>2</td>\n",
       "      <td>1</td>\n",
       "      <td>unacc</td>\n",
       "    </tr>\n",
       "    <tr>\n",
       "      <th>1</th>\n",
       "      <td>3</td>\n",
       "      <td>3</td>\n",
       "      <td>0</td>\n",
       "      <td>0</td>\n",
       "      <td>2</td>\n",
       "      <td>2</td>\n",
       "      <td>unacc</td>\n",
       "    </tr>\n",
       "    <tr>\n",
       "      <th>2</th>\n",
       "      <td>3</td>\n",
       "      <td>3</td>\n",
       "      <td>0</td>\n",
       "      <td>0</td>\n",
       "      <td>2</td>\n",
       "      <td>0</td>\n",
       "      <td>unacc</td>\n",
       "    </tr>\n",
       "    <tr>\n",
       "      <th>3</th>\n",
       "      <td>3</td>\n",
       "      <td>3</td>\n",
       "      <td>0</td>\n",
       "      <td>0</td>\n",
       "      <td>1</td>\n",
       "      <td>1</td>\n",
       "      <td>unacc</td>\n",
       "    </tr>\n",
       "    <tr>\n",
       "      <th>4</th>\n",
       "      <td>3</td>\n",
       "      <td>3</td>\n",
       "      <td>0</td>\n",
       "      <td>0</td>\n",
       "      <td>1</td>\n",
       "      <td>2</td>\n",
       "      <td>unacc</td>\n",
       "    </tr>\n",
       "  </tbody>\n",
       "</table>\n",
       "</div>"
      ],
      "text/plain": [
       "   buying_price_category   maint_cost_category  doors_category  \\\n",
       "0                       3                    3               0   \n",
       "1                       3                    3               0   \n",
       "2                       3                    3               0   \n",
       "3                       3                    3               0   \n",
       "4                       3                    3               0   \n",
       "\n",
       "   persons_capacity_category  lug_boot_category  safety_category  class  \n",
       "0                          0                  2                1  unacc  \n",
       "1                          0                  2                2  unacc  \n",
       "2                          0                  2                0  unacc  \n",
       "3                          0                  1                1  unacc  \n",
       "4                          0                  1                2  unacc  "
      ]
     },
     "execution_count": 104,
     "metadata": {},
     "output_type": "execute_result"
    }
   ],
   "source": [
    "# encoding the data\n",
    "from sklearn.preprocessing import LabelEncoder\n",
    "le=LabelEncoder()\n",
    "df['buying_price_category ']=le.fit_transform(df['buying_price_category '])\n",
    "df['maint_cost_category']=le.fit_transform(df['maint_cost_category'])\n",
    "df['doors_category']=le.fit_transform(df['doors_category'])\n",
    "df['persons_capacity_category']=le.fit_transform(df['persons_capacity_category'])\n",
    "df['lug_boot_category']=le.fit_transform(df['lug_boot_category'])\n",
    "df['safety_category']=le.fit_transform(df['safety_category'])\n",
    "df.head()"
   ]
  },
  {
   "cell_type": "code",
   "execution_count": 105,
   "metadata": {},
   "outputs": [],
   "source": [
    "x=df.drop(['class'],axis=1)\n",
    "y=df['class']"
   ]
  },
  {
   "cell_type": "code",
   "execution_count": 106,
   "metadata": {},
   "outputs": [],
   "source": [
    "# train test split\n",
    "x_train,x_test,y_train,y_test=train_test_split(x,y,test_size=0.2,random_state=0)\n"
   ]
  },
  {
   "cell_type": "code",
   "execution_count": 107,
   "metadata": {},
   "outputs": [
    {
     "data": {
      "text/plain": [
       "DecisionTreeClassifier(random_state=0)"
      ]
     },
     "execution_count": 107,
     "metadata": {},
     "output_type": "execute_result"
    }
   ],
   "source": [
    "# decision tree using gini index \n",
    "from sklearn.tree import DecisionTreeClassifier\n",
    "dtree_gini=DecisionTreeClassifier(criterion='gini',random_state=0)\n",
    "dtree_gini.fit(x_train,y_train)\n",
    "\n"
   ]
  },
  {
   "cell_type": "code",
   "execution_count": 108,
   "metadata": {},
   "outputs": [],
   "source": [
    "# prediction\n",
    "y_pred=dtree_gini.predict(x_test)\n"
   ]
  },
  {
   "cell_type": "code",
   "execution_count": 109,
   "metadata": {},
   "outputs": [
    {
     "name": "stdout",
     "output_type": "stream",
     "text": [
      "****************************Accuracy Score************************************\n",
      "0.9682080924855492\n",
      "**********************************Evaluation**********************************************\n",
      "Predicted  acc  good  unacc  vgood\n",
      "Actual                            \n",
      "acc         71     4      4      0\n",
      "good         0    17      0      0\n",
      "unacc        2     0    238      0\n",
      "vgood        1     0      0      9\n",
      "**********************************Classification Report**********************************************\n",
      "              precision    recall  f1-score   support\n",
      "\n",
      "         acc       0.96      0.90      0.93        79\n",
      "        good       0.81      1.00      0.89        17\n",
      "       unacc       0.98      0.99      0.99       240\n",
      "       vgood       1.00      0.90      0.95        10\n",
      "\n",
      "    accuracy                           0.97       346\n",
      "   macro avg       0.94      0.95      0.94       346\n",
      "weighted avg       0.97      0.97      0.97       346\n",
      "\n"
     ]
    }
   ],
   "source": [
    "# evaluation\n",
    "print('****************************Accuracy Score************************************')\n",
    "ac=accuracy_score(y_test,y_pred)\n",
    "print(ac)\n",
    "print(\"**********************************Evaluation**********************************************\")\n",
    "\n",
    "\n",
    "evaluation = pd.crosstab(y_test,y_pred,rownames=['Actual'],colnames=['Predicted'])\n",
    "print(evaluation)\n",
    "print(\"**********************************Classification Report**********************************************\")\n",
    "classification=classification_report(y_test,y_pred)\n",
    "print(classification)"
   ]
  },
  {
   "cell_type": "code",
   "execution_count": 110,
   "metadata": {},
   "outputs": [
    {
     "data": {
      "text/plain": [
       "DecisionTreeClassifier(criterion='entropy', random_state=0)"
      ]
     },
     "execution_count": 110,
     "metadata": {},
     "output_type": "execute_result"
    }
   ],
   "source": [
    "# decision tree using entropy index\n",
    "from sklearn.tree import DecisionTreeClassifier\n",
    "dtree=DecisionTreeClassifier(criterion='entropy',random_state=0)\n",
    "dtree.fit(x_train,y_train)\n"
   ]
  },
  {
   "cell_type": "code",
   "execution_count": 111,
   "metadata": {},
   "outputs": [],
   "source": [
    "# prediction\n",
    "y_pred=dtree.predict(x_test)\n"
   ]
  },
  {
   "cell_type": "code",
   "execution_count": 112,
   "metadata": {},
   "outputs": [
    {
     "name": "stdout",
     "output_type": "stream",
     "text": [
      "****************************Accuracy Score************************************\n",
      "0.976878612716763\n",
      "**********************************Evaluation**********************************************\n",
      "Predicted  acc  good  unacc  vgood\n",
      "Actual                            \n",
      "acc         72     5      2      0\n",
      "good         0    17      0      0\n",
      "unacc        0     0    240      0\n",
      "vgood        1     0      0      9\n",
      "**********************************Classification Report**********************************************\n",
      "              precision    recall  f1-score   support\n",
      "\n",
      "         acc       0.99      0.91      0.95        79\n",
      "        good       0.77      1.00      0.87        17\n",
      "       unacc       0.99      1.00      1.00       240\n",
      "       vgood       1.00      0.90      0.95        10\n",
      "\n",
      "    accuracy                           0.98       346\n",
      "   macro avg       0.94      0.95      0.94       346\n",
      "weighted avg       0.98      0.98      0.98       346\n",
      "\n"
     ]
    }
   ],
   "source": [
    "# evaluation\n",
    "print('****************************Accuracy Score************************************')\n",
    "ac=accuracy_score(y_test,y_pred)\n",
    "print(ac)\n",
    "print(\"**********************************Evaluation**********************************************\")\n",
    "\n",
    "\n",
    "evaluation = pd.crosstab(y_test,y_pred,rownames=['Actual'],colnames=['Predicted'])\n",
    "print(evaluation)\n",
    "print(\"**********************************Classification Report**********************************************\")\n",
    "classification_ent=classification_report(y_test,y_pred)\n",
    "print(classification_ent)"
   ]
  },
  {
   "cell_type": "code",
   "execution_count": 113,
   "metadata": {},
   "outputs": [
    {
     "name": "stdout",
     "output_type": "stream",
     "text": [
      "**********************************Gini Index**********************************************\n",
      "accuracy: 0.9682080924855492\n",
      "              precision    recall  f1-score   support\n",
      "\n",
      "         acc       0.96      0.90      0.93        79\n",
      "        good       0.81      1.00      0.89        17\n",
      "       unacc       0.98      0.99      0.99       240\n",
      "       vgood       1.00      0.90      0.95        10\n",
      "\n",
      "    accuracy                           0.97       346\n",
      "   macro avg       0.94      0.95      0.94       346\n",
      "weighted avg       0.97      0.97      0.97       346\n",
      "\n",
      "**********************************Entropy Index**********************************************\n",
      "accuracy: 0.976878612716763\n",
      "              precision    recall  f1-score   support\n",
      "\n",
      "         acc       0.99      0.91      0.95        79\n",
      "        good       0.77      1.00      0.87        17\n",
      "       unacc       0.99      1.00      1.00       240\n",
      "       vgood       1.00      0.90      0.95        10\n",
      "\n",
      "    accuracy                           0.98       346\n",
      "   macro avg       0.94      0.95      0.94       346\n",
      "weighted avg       0.98      0.98      0.98       346\n",
      "\n"
     ]
    }
   ],
   "source": [
    "# the difference between gini and entropy\n",
    "print(\"**********************************Gini Index**********************************************\")\n",
    "print('accuracy:',dtree_gini.score(x_test,y_test))\n",
    "print(classification)\n",
    "print(\"**********************************Entropy Index**********************************************\")\n",
    "print('accuracy:',dtree.score(x_test,y_test))\n",
    "print(classification_ent)"
   ]
  },
  {
   "cell_type": "markdown",
   "metadata": {},
   "source": [
    "The difference between the Gini Index and Entropy is that the accuracy of Entropy is higher than Gini Index. It is because the Entropy is a measure of the uncertainty of the data. The Gini Index is a measure of the probability of the data."
   ]
  },
  {
   "cell_type": "code",
   "execution_count": 114,
   "metadata": {},
   "outputs": [
    {
     "name": "stdout",
     "output_type": "stream",
     "text": [
      "**********************************Depth of the Tree**********************************************\n",
      "12\n",
      "**********************************Number of Leaves**********************************************\n",
      "75\n"
     ]
    }
   ],
   "source": [
    "# What is the Depth of the Tree? How many Leaves are present in the same? [you may use get_depth() and get_n_leaves() methods].\n",
    "print(\"**********************************Depth of the Tree**********************************************\")\n",
    "print(dtree.get_depth())\n",
    "print(\"**********************************Number of Leaves**********************************************\")\n",
    "print(dtree.get_n_leaves())"
   ]
  },
  {
   "cell_type": "markdown",
   "metadata": {},
   "source": [
    "## Conclusion\n",
    "From this lab I was able to learn how to construct a decision tree and how to evaluate the performance of the tree. I also learnt how to use the get_depth() and get_n_leaves() methods to get the depth of the tree and the number of leaves in the tree. and now i know the difference between the Gini Index and Entropy."
   ]
  }
 ],
 "metadata": {
  "interpreter": {
   "hash": "16755c6296b6ff6f8bddc4bdc62e9bfd65eb7054a6d840d9af5892604e1770cb"
  },
  "kernelspec": {
   "display_name": "Python 3.9.12 64-bit (windows store)",
   "language": "python",
   "name": "python3"
  },
  "language_info": {
   "codemirror_mode": {
    "name": "ipython",
    "version": 3
   },
   "file_extension": ".py",
   "mimetype": "text/x-python",
   "name": "python",
   "nbconvert_exporter": "python",
   "pygments_lexer": "ipython3",
   "version": "3.9.12"
  },
  "orig_nbformat": 4
 },
 "nbformat": 4,
 "nbformat_minor": 2
}
